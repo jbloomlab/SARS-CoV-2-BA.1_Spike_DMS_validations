{
 "cells": [
  {
   "cell_type": "markdown",
   "metadata": {},
   "source": [
    "# Analysis of VSV-G pseudotyped virus neutalization"
   ]
  },
  {
   "cell_type": "markdown",
   "metadata": {},
   "source": [
    "### Set up Analysis"
   ]
  },
  {
   "cell_type": "code",
   "execution_count": 1,
   "metadata": {
    "execution": {
     "iopub.execute_input": "2022-09-28T16:40:27.833785Z",
     "iopub.status.busy": "2022-09-28T16:40:27.833132Z",
     "iopub.status.idle": "2022-09-28T16:40:30.176612Z",
     "shell.execute_reply": "2022-09-28T16:40:30.177037Z"
    }
   },
   "outputs": [],
   "source": [
    "import itertools\n",
    "import math\n",
    "import os\n",
    "import re\n",
    "import warnings\n",
    "\n",
    "from IPython.display import display, HTML\n",
    "\n",
    "import matplotlib\n",
    "import matplotlib as mpl\n",
    "import matplotlib.pyplot as plt\n",
    "import natsort\n",
    "\n",
    "import numpy as np\n",
    "import pandas as pd\n",
    "from plotnine import *\n",
    "import seaborn\n",
    "\n",
    "import neutcurve\n",
    "from neutcurve.colorschemes import CBMARKERS, CBPALETTE\n",
    "\n",
    "import yaml"
   ]
  },
  {
   "cell_type": "code",
   "execution_count": 2,
   "metadata": {
    "execution": {
     "iopub.execute_input": "2022-09-28T16:40:30.182031Z",
     "iopub.status.busy": "2022-09-28T16:40:30.181176Z",
     "iopub.status.idle": "2022-09-28T16:40:30.182949Z",
     "shell.execute_reply": "2022-09-28T16:40:30.183626Z"
    }
   },
   "outputs": [],
   "source": [
    "warnings.simplefilter('ignore')"
   ]
  },
  {
   "cell_type": "markdown",
   "metadata": {},
   "source": [
    "Read config file."
   ]
  },
  {
   "cell_type": "code",
   "execution_count": 3,
   "metadata": {
    "execution": {
     "iopub.execute_input": "2022-09-28T16:40:30.187670Z",
     "iopub.status.busy": "2022-09-28T16:40:30.186879Z",
     "iopub.status.idle": "2022-09-28T16:40:30.192068Z",
     "shell.execute_reply": "2022-09-28T16:40:30.191669Z"
    }
   },
   "outputs": [],
   "source": [
    "with open('config.yaml') as f:\n",
    "    config = yaml.safe_load(f)"
   ]
  },
  {
   "cell_type": "markdown",
   "metadata": {},
   "source": [
    "Set seaborn theme:"
   ]
  },
  {
   "cell_type": "code",
   "execution_count": 4,
   "metadata": {
    "execution": {
     "iopub.execute_input": "2022-09-28T16:40:30.196549Z",
     "iopub.status.busy": "2022-09-28T16:40:30.196039Z",
     "iopub.status.idle": "2022-09-28T16:40:30.197828Z",
     "shell.execute_reply": "2022-09-28T16:40:30.198189Z"
    }
   },
   "outputs": [],
   "source": [
    "theme_set(theme_seaborn(style='white', context='talk', font_scale=1))\n",
    "plt.style.use('seaborn-white')"
   ]
  },
  {
   "cell_type": "code",
   "execution_count": 5,
   "metadata": {
    "execution": {
     "iopub.execute_input": "2022-09-28T16:40:30.201677Z",
     "iopub.status.busy": "2022-09-28T16:40:30.201114Z",
     "iopub.status.idle": "2022-09-28T16:40:30.203965Z",
     "shell.execute_reply": "2022-09-28T16:40:30.204391Z"
    }
   },
   "outputs": [],
   "source": [
    "resultsdir=config['resultsdir']\n",
    "os.makedirs(resultsdir, exist_ok=True)"
   ]
  },
  {
   "cell_type": "markdown",
   "metadata": {},
   "source": [
    "## Read in data"
   ]
  },
  {
   "cell_type": "code",
   "execution_count": 6,
   "metadata": {
    "execution": {
     "iopub.execute_input": "2022-09-28T16:40:30.208314Z",
     "iopub.status.busy": "2022-09-28T16:40:30.207759Z",
     "iopub.status.idle": "2022-09-28T16:40:30.217662Z",
     "shell.execute_reply": "2022-09-28T16:40:30.218166Z"
    }
   },
   "outputs": [],
   "source": [
    "frac_infect = pd.read_csv(config['mAb_neuts_VSVG'], index_col=0)"
   ]
  },
  {
   "cell_type": "markdown",
   "metadata": {},
   "source": [
    "## Fit Hill curve to data using [`neutcurve`](https://jbloomlab.github.io/neutcurve/)"
   ]
  },
  {
   "cell_type": "code",
   "execution_count": 7,
   "metadata": {
    "execution": {
     "iopub.execute_input": "2022-09-28T16:40:30.286338Z",
     "iopub.status.busy": "2022-09-28T16:40:30.281550Z",
     "iopub.status.idle": "2022-09-28T16:40:30.288215Z",
     "shell.execute_reply": "2022-09-28T16:40:30.288705Z"
    }
   },
   "outputs": [],
   "source": [
    "fits = neutcurve.CurveFits(frac_infect, fixbottom=0, fixtop= True)"
   ]
  },
  {
   "cell_type": "code",
   "execution_count": 8,
   "metadata": {
    "execution": {
     "iopub.execute_input": "2022-09-28T16:40:30.297221Z",
     "iopub.status.busy": "2022-09-28T16:40:30.296524Z",
     "iopub.status.idle": "2022-09-28T16:40:30.334851Z",
     "shell.execute_reply": "2022-09-28T16:40:30.334152Z"
    }
   },
   "outputs": [],
   "source": [
    "fitparams = (\n",
    "        fits.fitParams()\n",
    "        # get columns of interest\n",
    "        [['serum', 'ic50', 'ic50_bound','virus']]\n",
    "        .assign(NT50=lambda x: 1/x['ic50'])        \n",
    "        )"
   ]
  },
  {
   "cell_type": "code",
   "execution_count": 9,
   "metadata": {
    "execution": {
     "iopub.execute_input": "2022-09-28T16:40:30.339712Z",
     "iopub.status.busy": "2022-09-28T16:40:30.339162Z",
     "iopub.status.idle": "2022-09-28T16:40:30.340977Z",
     "shell.execute_reply": "2022-09-28T16:40:30.340514Z"
    }
   },
   "outputs": [],
   "source": [
    "fitparams['ic50_is_bound'] = fitparams['ic50_bound'].apply(lambda x: True if x!='interpolated' else False)"
   ]
  },
  {
   "cell_type": "code",
   "execution_count": 10,
   "metadata": {
    "execution": {
     "iopub.execute_input": "2022-09-28T16:40:30.345830Z",
     "iopub.status.busy": "2022-09-28T16:40:30.345317Z",
     "iopub.status.idle": "2022-09-28T16:40:30.357262Z",
     "shell.execute_reply": "2022-09-28T16:40:30.357792Z"
    }
   },
   "outputs": [
    {
     "data": {
      "text/html": [
       "<div>\n",
       "<style scoped>\n",
       "    .dataframe tbody tr th:only-of-type {\n",
       "        vertical-align: middle;\n",
       "    }\n",
       "\n",
       "    .dataframe tbody tr th {\n",
       "        vertical-align: top;\n",
       "    }\n",
       "\n",
       "    .dataframe thead th {\n",
       "        text-align: right;\n",
       "    }\n",
       "</style>\n",
       "<table border=\"1\" class=\"dataframe\">\n",
       "  <thead>\n",
       "    <tr style=\"text-align: right;\">\n",
       "      <th></th>\n",
       "      <th>serum</th>\n",
       "      <th>ic50</th>\n",
       "      <th>ic50_bound</th>\n",
       "      <th>virus</th>\n",
       "      <th>NT50</th>\n",
       "      <th>ic50_is_bound</th>\n",
       "    </tr>\n",
       "  </thead>\n",
       "  <tbody>\n",
       "    <tr>\n",
       "      <th>0</th>\n",
       "      <td>CC65.105</td>\n",
       "      <td>2.753327</td>\n",
       "      <td>interpolated</td>\n",
       "      <td>BA.1</td>\n",
       "      <td>0.363197</td>\n",
       "      <td>False</td>\n",
       "    </tr>\n",
       "    <tr>\n",
       "      <th>1</th>\n",
       "      <td>CC65.105</td>\n",
       "      <td>300.000000</td>\n",
       "      <td>lower</td>\n",
       "      <td>VSV-G</td>\n",
       "      <td>0.003333</td>\n",
       "      <td>True</td>\n",
       "    </tr>\n",
       "    <tr>\n",
       "      <th>2</th>\n",
       "      <td>NTD_5-7</td>\n",
       "      <td>0.427354</td>\n",
       "      <td>interpolated</td>\n",
       "      <td>BA.1</td>\n",
       "      <td>2.339978</td>\n",
       "      <td>False</td>\n",
       "    </tr>\n",
       "    <tr>\n",
       "      <th>3</th>\n",
       "      <td>NTD_5-7</td>\n",
       "      <td>96.000000</td>\n",
       "      <td>lower</td>\n",
       "      <td>VSV-G</td>\n",
       "      <td>0.010417</td>\n",
       "      <td>True</td>\n",
       "    </tr>\n",
       "    <tr>\n",
       "      <th>4</th>\n",
       "      <td>Ly-CoV1404</td>\n",
       "      <td>0.005371</td>\n",
       "      <td>interpolated</td>\n",
       "      <td>BA.1</td>\n",
       "      <td>186.188050</td>\n",
       "      <td>False</td>\n",
       "    </tr>\n",
       "    <tr>\n",
       "      <th>5</th>\n",
       "      <td>Ly-CoV1404</td>\n",
       "      <td>5.000000</td>\n",
       "      <td>lower</td>\n",
       "      <td>VSV-G</td>\n",
       "      <td>0.200000</td>\n",
       "      <td>True</td>\n",
       "    </tr>\n",
       "    <tr>\n",
       "      <th>6</th>\n",
       "      <td>CC9.104</td>\n",
       "      <td>2.335419</td>\n",
       "      <td>interpolated</td>\n",
       "      <td>BA.1</td>\n",
       "      <td>0.428189</td>\n",
       "      <td>False</td>\n",
       "    </tr>\n",
       "    <tr>\n",
       "      <th>7</th>\n",
       "      <td>CC9.104</td>\n",
       "      <td>300.000000</td>\n",
       "      <td>lower</td>\n",
       "      <td>VSV-G</td>\n",
       "      <td>0.003333</td>\n",
       "      <td>True</td>\n",
       "    </tr>\n",
       "  </tbody>\n",
       "</table>\n",
       "</div>"
      ],
      "text/plain": [
       "        serum        ic50    ic50_bound  virus        NT50  ic50_is_bound\n",
       "0    CC65.105    2.753327  interpolated   BA.1    0.363197          False\n",
       "1    CC65.105  300.000000         lower  VSV-G    0.003333           True\n",
       "2     NTD_5-7    0.427354  interpolated   BA.1    2.339978          False\n",
       "3     NTD_5-7   96.000000         lower  VSV-G    0.010417           True\n",
       "4  Ly-CoV1404    0.005371  interpolated   BA.1  186.188050          False\n",
       "5  Ly-CoV1404    5.000000         lower  VSV-G    0.200000           True\n",
       "6     CC9.104    2.335419  interpolated   BA.1    0.428189          False\n",
       "7     CC9.104  300.000000         lower  VSV-G    0.003333           True"
      ]
     },
     "execution_count": 10,
     "metadata": {},
     "output_type": "execute_result"
    }
   ],
   "source": [
    "fitparams"
   ]
  },
  {
   "cell_type": "markdown",
   "metadata": {},
   "source": [
    "## Plot neut curves for mAbs"
   ]
  },
  {
   "cell_type": "code",
   "execution_count": 11,
   "metadata": {
    "execution": {
     "iopub.execute_input": "2022-09-28T16:40:30.374391Z",
     "iopub.status.busy": "2022-09-28T16:40:30.371878Z",
     "iopub.status.idle": "2022-09-28T16:40:31.318342Z",
     "shell.execute_reply": "2022-09-28T16:40:31.319186Z"
    }
   },
   "outputs": [
    {
     "name": "stdout",
     "output_type": "stream",
     "text": [
      "Saving to Ly-CoV1404_VSVG.pdf\n"
     ]
    },
    {
     "data": {
      "image/png": "[encoded data removed]",
      "text/plain": [
       "<Figure size 288x234 with 2 Axes>"
      ]
     },
     "metadata": {},
     "output_type": "display_data"
    }
   ],
   "source": [
    "# neut with Ly-CoV1404\n",
    "fig, axes = fits.plotSera(sera = ['Ly-CoV1404', ],\n",
    "                          viruses=['BA.1','VSV-G'],\n",
    "                          xlabel='concentration (µg/ml)',\n",
    "                          ncol=1,\n",
    "                          widthscale=1,\n",
    "                          heightscale=1,\n",
    "                          titlesize=20, labelsize=20, ticksize=14,\n",
    "                          legendfontsize=20, yticklocs=[0,0.5,1],\n",
    "                          markersize=5, linewidth=1.5,\n",
    "                          max_viruses_per_subplot = 8,\n",
    "                          markers=['o','o']\n",
    "                         )\n",
    "plotfile = 'Ly-CoV1404_VSVG.pdf'\n",
    "print(f\"Saving to {plotfile}\")\n",
    "fig.savefig(f'{resultsdir}/{plotfile}', bbox_inches='tight')"
   ]
  },
  {
   "cell_type": "code",
   "execution_count": 12,
   "metadata": {
    "execution": {
     "iopub.execute_input": "2022-09-28T16:40:31.356695Z",
     "iopub.status.busy": "2022-09-28T16:40:31.336623Z",
     "iopub.status.idle": "2022-09-28T16:40:32.385350Z",
     "shell.execute_reply": "2022-09-28T16:40:32.385697Z"
    }
   },
   "outputs": [
    {
     "name": "stdout",
     "output_type": "stream",
     "text": [
      "Saving to NTS_S2_mAbs_VSVG.pdf\n"
     ]
    },
    {
     "data": {
      "image/png": "[encoded data removed]",
      "text/plain": [
       "<Figure size 720x280.8 with 4 Axes>"
      ]
     },
     "metadata": {},
     "output_type": "display_data"
    }
   ],
   "source": [
    "# neuts with NTD_5-7, CC9.104, and CC65.105\n",
    "fig, axes = fits.plotSera(sera = ['NTD_5-7','CC9.104', 'CC65.105'],\n",
    "                          viruses=['VSV-G', 'BA.1'],\n",
    "                          xlabel='concentration (µg/ml)',\n",
    "                          ncol=3,\n",
    "                          sharex=False,\n",
    "                          widthscale=1,\n",
    "                          heightscale=1.2,\n",
    "                          titlesize=20, labelsize=20, ticksize=14,\n",
    "                          legendfontsize=20, yticklocs=[0,0.5,1],\n",
    "                          markersize=5, linewidth=1.5,\n",
    "                          max_viruses_per_subplot = 8,\n",
    "                          markers=['o','o']\n",
    "                         )\n",
    "plotfile = 'NTS_S2_mAbs_VSVG.pdf'\n",
    "print(f\"Saving to {plotfile}\")\n",
    "fig.savefig(f'{resultsdir}/{plotfile}', bbox_inches='tight')"
   ]
  },
  {
   "cell_type": "code",
   "execution_count": null,
   "metadata": {},
   "outputs": [],
   "source": []
  }
 ],
 "metadata": {
  "kernelspec": {
   "display_name": "Python 3 (ipykernel)",
   "language": "python",
   "name": "python3"
  },
  "language_info": {
   "codemirror_mode": {
    "name": "ipython",
    "version": 3
   },
   "file_extension": ".py",
   "mimetype": "text/x-python",
   "name": "python",
   "nbconvert_exporter": "python",
   "pygments_lexer": "ipython3",
   "version": "3.8.12"
  }
 },
 "nbformat": 4,
 "nbformat_minor": 4
}
